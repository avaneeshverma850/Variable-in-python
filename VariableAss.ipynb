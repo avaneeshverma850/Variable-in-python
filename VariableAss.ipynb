{
 "cells": [
  {
   "cell_type": "code",
   "execution_count": 7,
   "id": "0eebea57-6e04-4f99-8d58-1088b0a0b864",
   "metadata": {},
   "outputs": [
    {
     "name": "stdout",
     "output_type": "stream",
     "text": [
      "123\n",
      "1234\n"
     ]
    }
   ],
   "source": [
    "# All the convention being followed while declaring a variable\n",
    "# 1. A variable name must start with letter or an underscore(_)\n",
    "#2.A variable name cannot start with a digit.\n",
    "#3.a variable name contain only alpha-numeric character and underscore\n",
    "#4.Variable names are case-sensitive\n",
    "#example\n",
    "a=123\n",
    "print(a)\n",
    "_a=1234  #varibale name start with underscore\n",
    "print(_a)\n",
    "#12=112321\n",
    "#print(12)  here variable name cannot start with number"
   ]
  },
  {
   "cell_type": "code",
   "execution_count": null,
   "id": "736f68af-4feb-4daf-88ed-dde231e1b68c",
   "metadata": {},
   "outputs": [],
   "source": [
    "#keyword are special words that have a meaning in python .so we cannot use them as variable names.\n",
    "#and=123 here we 'and' keyword cannot used as variable"
   ]
  },
  {
   "cell_type": "code",
   "execution_count": null,
   "id": "e7b1c39b-bee7-47bb-8f19-64a46c39c923",
   "metadata": {},
   "outputs": [],
   "source": [
    "#use the setattr() function to convert a string into a variable name in python"
   ]
  },
  {
   "cell_type": "code",
   "execution_count": 11,
   "id": "30e1bc83-cb16-43d6-84cb-73a07e14de75",
   "metadata": {},
   "outputs": [
    {
     "name": "stdout",
     "output_type": "stream",
     "text": [
      "123\n",
      "1234\n",
      "123456\n"
     ]
    }
   ],
   "source": [
    "# yes it is possible for us to declare \"_\" as a variable \n",
    "# underscore is as special type in python\n",
    "_=123\n",
    "print(_)\n",
    "_123=1234\n",
    "print(_123)\n",
    "_AV=123456\n",
    "print(_AV)"
   ]
  },
  {
   "cell_type": "code",
   "execution_count": 13,
   "id": "58ae6c8f-b88c-4ea9-9530-063b3372c207",
   "metadata": {},
   "outputs": [
    {
     "name": "stdout",
     "output_type": "stream",
     "text": [
      "10\n"
     ]
    }
   ],
   "source": [
    "#Dynamic types meanss that variable can be determined only during runtime.\n",
    "#variable can be declare during before execution of program\n",
    "x=10\n",
    "print(x)\n",
    "y"
   ]
  },
  {
   "cell_type": "code",
   "execution_count": null,
   "id": "1a267b6b-af96-4958-be49-9f3a48fe6b9e",
   "metadata": {},
   "outputs": [],
   "source": []
  }
 ],
 "metadata": {
  "kernelspec": {
   "display_name": "Python 3 (ipykernel)",
   "language": "python",
   "name": "python3"
  },
  "language_info": {
   "codemirror_mode": {
    "name": "ipython",
    "version": 3
   },
   "file_extension": ".py",
   "mimetype": "text/x-python",
   "name": "python",
   "nbconvert_exporter": "python",
   "pygments_lexer": "ipython3",
   "version": "3.10.8"
  }
 },
 "nbformat": 4,
 "nbformat_minor": 5
}
